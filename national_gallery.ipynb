{
 "cells": [
  {
   "cell_type": "code",
   "execution_count": 1,
   "metadata": {},
   "outputs": [],
   "source": [
    "import pandas as pd\n",
    "import numpy as np\n",
    "import requests\n",
    "from urllib.request import urlretrieve\n",
    "import sqlalchemy\n",
    "from sqlalchemy.orm import Session\n",
    "import json"
   ]
  },
  {
   "cell_type": "code",
   "execution_count": 9,
   "metadata": {},
   "outputs": [
    {
     "data": {
      "text/html": [
       "<div>\n",
       "<style scoped>\n",
       "    .dataframe tbody tr th:only-of-type {\n",
       "        vertical-align: middle;\n",
       "    }\n",
       "\n",
       "    .dataframe tbody tr th {\n",
       "        vertical-align: top;\n",
       "    }\n",
       "\n",
       "    .dataframe thead th {\n",
       "        text-align: right;\n",
       "    }\n",
       "</style>\n",
       "<table border=\"1\" class=\"dataframe\">\n",
       "  <thead>\n",
       "    <tr style=\"text-align: right;\">\n",
       "      <th></th>\n",
       "      <th>uuid</th>\n",
       "      <th>iiifurl</th>\n",
       "      <th>iiifthumburl</th>\n",
       "      <th>viewtype</th>\n",
       "      <th>sequence</th>\n",
       "      <th>width</th>\n",
       "      <th>height</th>\n",
       "      <th>maxpixels</th>\n",
       "      <th>created</th>\n",
       "      <th>modified</th>\n",
       "      <th>depictstmsobjectid</th>\n",
       "      <th>assistivetext</th>\n",
       "    </tr>\n",
       "  </thead>\n",
       "  <tbody>\n",
       "    <tr>\n",
       "      <th>0</th>\n",
       "      <td>00004dec-8300-4487-8d89-562d0126b6a1</td>\n",
       "      <td>https://api.nga.gov/iiif/00004dec-8300-4487-8d...</td>\n",
       "      <td>https://api.nga.gov/iiif/00004dec-8300-4487-8d...</td>\n",
       "      <td>primary</td>\n",
       "      <td>0.0</td>\n",
       "      <td>2623</td>\n",
       "      <td>4000</td>\n",
       "      <td>640.0</td>\n",
       "      <td>2010-09-07 15:08:48-04</td>\n",
       "      <td>2021-08-26 14:28:24-04</td>\n",
       "      <td>11975</td>\n",
       "      <td>NaN</td>\n",
       "    </tr>\n",
       "    <tr>\n",
       "      <th>1</th>\n",
       "      <td>00007f61-4922-417b-8f27-893ea328206c</td>\n",
       "      <td>https://api.nga.gov/iiif/00007f61-4922-417b-8f...</td>\n",
       "      <td>https://api.nga.gov/iiif/00007f61-4922-417b-8f...</td>\n",
       "      <td>primary</td>\n",
       "      <td>0.0</td>\n",
       "      <td>3365</td>\n",
       "      <td>4332</td>\n",
       "      <td>NaN</td>\n",
       "      <td>2013-07-05 15:41:08-04</td>\n",
       "      <td>2021-07-07 10:26:29-04</td>\n",
       "      <td>17387</td>\n",
       "      <td>NaN</td>\n",
       "    </tr>\n",
       "    <tr>\n",
       "      <th>2</th>\n",
       "      <td>0000bd8c-39de-4453-b55d-5e28a9beed38</td>\n",
       "      <td>https://api.nga.gov/iiif/0000bd8c-39de-4453-b5...</td>\n",
       "      <td>https://api.nga.gov/iiif/0000bd8c-39de-4453-b5...</td>\n",
       "      <td>primary</td>\n",
       "      <td>0.0</td>\n",
       "      <td>3500</td>\n",
       "      <td>4688</td>\n",
       "      <td>NaN</td>\n",
       "      <td>2013-08-05 14:31:59-04</td>\n",
       "      <td>2021-07-07 10:34:01-04</td>\n",
       "      <td>19245</td>\n",
       "      <td>NaN</td>\n",
       "    </tr>\n",
       "    <tr>\n",
       "      <th>3</th>\n",
       "      <td>0000e5a4-7d32-4c2a-97c6-a6b571c9fd71</td>\n",
       "      <td>https://api.nga.gov/iiif/0000e5a4-7d32-4c2a-97...</td>\n",
       "      <td>https://api.nga.gov/iiif/0000e5a4-7d32-4c2a-97...</td>\n",
       "      <td>primary</td>\n",
       "      <td>0.0</td>\n",
       "      <td>2252</td>\n",
       "      <td>3000</td>\n",
       "      <td>NaN</td>\n",
       "      <td>2013-03-18 14:39:55-04</td>\n",
       "      <td>2021-08-31 10:29:14-04</td>\n",
       "      <td>153987</td>\n",
       "      <td>NaN</td>\n",
       "    </tr>\n",
       "    <tr>\n",
       "      <th>4</th>\n",
       "      <td>0001668a-dd1c-48e8-9267-b6d1697d43c8</td>\n",
       "      <td>https://api.nga.gov/iiif/0001668a-dd1c-48e8-92...</td>\n",
       "      <td>https://api.nga.gov/iiif/0001668a-dd1c-48e8-92...</td>\n",
       "      <td>primary</td>\n",
       "      <td>0.0</td>\n",
       "      <td>3446</td>\n",
       "      <td>4448</td>\n",
       "      <td>NaN</td>\n",
       "      <td>2014-01-02 14:50:50-05</td>\n",
       "      <td>2021-07-07 11:09:58-04</td>\n",
       "      <td>23830</td>\n",
       "      <td>NaN</td>\n",
       "    </tr>\n",
       "    <tr>\n",
       "      <th>...</th>\n",
       "      <td>...</td>\n",
       "      <td>...</td>\n",
       "      <td>...</td>\n",
       "      <td>...</td>\n",
       "      <td>...</td>\n",
       "      <td>...</td>\n",
       "      <td>...</td>\n",
       "      <td>...</td>\n",
       "      <td>...</td>\n",
       "      <td>...</td>\n",
       "      <td>...</td>\n",
       "      <td>...</td>\n",
       "    </tr>\n",
       "    <tr>\n",
       "      <th>102908</th>\n",
       "      <td>fffd89a6-7250-4743-839d-7022057057f4</td>\n",
       "      <td>https://api.nga.gov/iiif/fffd89a6-7250-4743-83...</td>\n",
       "      <td>https://api.nga.gov/iiif/fffd89a6-7250-4743-83...</td>\n",
       "      <td>primary</td>\n",
       "      <td>0.0</td>\n",
       "      <td>2782</td>\n",
       "      <td>4000</td>\n",
       "      <td>640.0</td>\n",
       "      <td>2012-02-02 15:28:56-05</td>\n",
       "      <td>2021-08-26 15:06:52-04</td>\n",
       "      <td>47930</td>\n",
       "      <td>NaN</td>\n",
       "    </tr>\n",
       "    <tr>\n",
       "      <th>102909</th>\n",
       "      <td>fffe6d61-e686-478d-bafb-ddae9a48c4de</td>\n",
       "      <td>https://api.nga.gov/iiif/fffe6d61-e686-478d-ba...</td>\n",
       "      <td>https://api.nga.gov/iiif/fffe6d61-e686-478d-ba...</td>\n",
       "      <td>primary</td>\n",
       "      <td>0.0</td>\n",
       "      <td>4000</td>\n",
       "      <td>1635</td>\n",
       "      <td>NaN</td>\n",
       "      <td>2016-05-10 16:23:54-04</td>\n",
       "      <td>2021-08-05 17:19:27-04</td>\n",
       "      <td>169631</td>\n",
       "      <td>NaN</td>\n",
       "    </tr>\n",
       "    <tr>\n",
       "      <th>102910</th>\n",
       "      <td>fffeab03-0f91-49ba-884a-648e6f84598f</td>\n",
       "      <td>https://api.nga.gov/iiif/fffeab03-0f91-49ba-88...</td>\n",
       "      <td>https://api.nga.gov/iiif/fffeab03-0f91-49ba-88...</td>\n",
       "      <td>primary</td>\n",
       "      <td>0.0</td>\n",
       "      <td>3271</td>\n",
       "      <td>2429</td>\n",
       "      <td>NaN</td>\n",
       "      <td>2015-09-22 15:46:19-04</td>\n",
       "      <td>2021-07-08 13:28:29-04</td>\n",
       "      <td>166633</td>\n",
       "      <td>NaN</td>\n",
       "    </tr>\n",
       "    <tr>\n",
       "      <th>102911</th>\n",
       "      <td>ffff2faf-fb5a-479c-b5dc-408245cdc1a0</td>\n",
       "      <td>https://api.nga.gov/iiif/ffff2faf-fb5a-479c-b5...</td>\n",
       "      <td>https://api.nga.gov/iiif/ffff2faf-fb5a-479c-b5...</td>\n",
       "      <td>primary</td>\n",
       "      <td>0.0</td>\n",
       "      <td>3454</td>\n",
       "      <td>3465</td>\n",
       "      <td>NaN</td>\n",
       "      <td>2010-11-04 14:31:14-04</td>\n",
       "      <td>2021-08-05 16:29:41-04</td>\n",
       "      <td>39382</td>\n",
       "      <td>NaN</td>\n",
       "    </tr>\n",
       "    <tr>\n",
       "      <th>102912</th>\n",
       "      <td>ffff3431-0d5a-4f85-b7f3-2678093d2418</td>\n",
       "      <td>https://api.nga.gov/iiif/ffff3431-0d5a-4f85-b7...</td>\n",
       "      <td>https://api.nga.gov/iiif/ffff3431-0d5a-4f85-b7...</td>\n",
       "      <td>primary</td>\n",
       "      <td>0.0</td>\n",
       "      <td>1639</td>\n",
       "      <td>2256</td>\n",
       "      <td>640.0</td>\n",
       "      <td>2015-10-15 12:45:23-04</td>\n",
       "      <td>2021-07-08 17:44:16-04</td>\n",
       "      <td>206231</td>\n",
       "      <td>NaN</td>\n",
       "    </tr>\n",
       "  </tbody>\n",
       "</table>\n",
       "<p>102913 rows × 12 columns</p>\n",
       "</div>"
      ],
      "text/plain": [
       "                                        uuid  \\\n",
       "0       00004dec-8300-4487-8d89-562d0126b6a1   \n",
       "1       00007f61-4922-417b-8f27-893ea328206c   \n",
       "2       0000bd8c-39de-4453-b55d-5e28a9beed38   \n",
       "3       0000e5a4-7d32-4c2a-97c6-a6b571c9fd71   \n",
       "4       0001668a-dd1c-48e8-9267-b6d1697d43c8   \n",
       "...                                      ...   \n",
       "102908  fffd89a6-7250-4743-839d-7022057057f4   \n",
       "102909  fffe6d61-e686-478d-bafb-ddae9a48c4de   \n",
       "102910  fffeab03-0f91-49ba-884a-648e6f84598f   \n",
       "102911  ffff2faf-fb5a-479c-b5dc-408245cdc1a0   \n",
       "102912  ffff3431-0d5a-4f85-b7f3-2678093d2418   \n",
       "\n",
       "                                                  iiifurl  \\\n",
       "0       https://api.nga.gov/iiif/00004dec-8300-4487-8d...   \n",
       "1       https://api.nga.gov/iiif/00007f61-4922-417b-8f...   \n",
       "2       https://api.nga.gov/iiif/0000bd8c-39de-4453-b5...   \n",
       "3       https://api.nga.gov/iiif/0000e5a4-7d32-4c2a-97...   \n",
       "4       https://api.nga.gov/iiif/0001668a-dd1c-48e8-92...   \n",
       "...                                                   ...   \n",
       "102908  https://api.nga.gov/iiif/fffd89a6-7250-4743-83...   \n",
       "102909  https://api.nga.gov/iiif/fffe6d61-e686-478d-ba...   \n",
       "102910  https://api.nga.gov/iiif/fffeab03-0f91-49ba-88...   \n",
       "102911  https://api.nga.gov/iiif/ffff2faf-fb5a-479c-b5...   \n",
       "102912  https://api.nga.gov/iiif/ffff3431-0d5a-4f85-b7...   \n",
       "\n",
       "                                             iiifthumburl viewtype  sequence  \\\n",
       "0       https://api.nga.gov/iiif/00004dec-8300-4487-8d...  primary       0.0   \n",
       "1       https://api.nga.gov/iiif/00007f61-4922-417b-8f...  primary       0.0   \n",
       "2       https://api.nga.gov/iiif/0000bd8c-39de-4453-b5...  primary       0.0   \n",
       "3       https://api.nga.gov/iiif/0000e5a4-7d32-4c2a-97...  primary       0.0   \n",
       "4       https://api.nga.gov/iiif/0001668a-dd1c-48e8-92...  primary       0.0   \n",
       "...                                                   ...      ...       ...   \n",
       "102908  https://api.nga.gov/iiif/fffd89a6-7250-4743-83...  primary       0.0   \n",
       "102909  https://api.nga.gov/iiif/fffe6d61-e686-478d-ba...  primary       0.0   \n",
       "102910  https://api.nga.gov/iiif/fffeab03-0f91-49ba-88...  primary       0.0   \n",
       "102911  https://api.nga.gov/iiif/ffff2faf-fb5a-479c-b5...  primary       0.0   \n",
       "102912  https://api.nga.gov/iiif/ffff3431-0d5a-4f85-b7...  primary       0.0   \n",
       "\n",
       "        width  height  maxpixels                 created  \\\n",
       "0        2623    4000      640.0  2010-09-07 15:08:48-04   \n",
       "1        3365    4332        NaN  2013-07-05 15:41:08-04   \n",
       "2        3500    4688        NaN  2013-08-05 14:31:59-04   \n",
       "3        2252    3000        NaN  2013-03-18 14:39:55-04   \n",
       "4        3446    4448        NaN  2014-01-02 14:50:50-05   \n",
       "...       ...     ...        ...                     ...   \n",
       "102908   2782    4000      640.0  2012-02-02 15:28:56-05   \n",
       "102909   4000    1635        NaN  2016-05-10 16:23:54-04   \n",
       "102910   3271    2429        NaN  2015-09-22 15:46:19-04   \n",
       "102911   3454    3465        NaN  2010-11-04 14:31:14-04   \n",
       "102912   1639    2256      640.0  2015-10-15 12:45:23-04   \n",
       "\n",
       "                      modified  depictstmsobjectid assistivetext  \n",
       "0       2021-08-26 14:28:24-04               11975           NaN  \n",
       "1       2021-07-07 10:26:29-04               17387           NaN  \n",
       "2       2021-07-07 10:34:01-04               19245           NaN  \n",
       "3       2021-08-31 10:29:14-04              153987           NaN  \n",
       "4       2021-07-07 11:09:58-04               23830           NaN  \n",
       "...                        ...                 ...           ...  \n",
       "102908  2021-08-26 15:06:52-04               47930           NaN  \n",
       "102909  2021-08-05 17:19:27-04              169631           NaN  \n",
       "102910  2021-07-08 13:28:29-04              166633           NaN  \n",
       "102911  2021-08-05 16:29:41-04               39382           NaN  \n",
       "102912  2021-07-08 17:44:16-04              206231           NaN  \n",
       "\n",
       "[102913 rows x 12 columns]"
      ]
     },
     "execution_count": 9,
     "metadata": {},
     "output_type": "execute_result"
    }
   ],
   "source": [
    "csv_url = 'https://raw.githubusercontent.com/NationalGalleryOfArt/opendata/main/data/published_images.csv'\n",
    "ng_df = pd.read_csv(csv_url)\n",
    "ng_df\n"
   ]
  },
  {
   "cell_type": "code",
   "execution_count": 14,
   "metadata": {},
   "outputs": [
    {
     "data": {
      "text/plain": [
       "'https://api.nga.gov/iiif/00004dec-8300-4487-8d89-562d0126b6a1/full/!200,200/0/default.jpg'"
      ]
     },
     "execution_count": 14,
     "metadata": {},
     "output_type": "execute_result"
    }
   ],
   "source": [
    "s4_px = ng_df[ng_df['maxpixels'] == 640]\n",
    "s4_px['iiifthumburl'][0]"
   ]
  },
  {
   "cell_type": "markdown",
   "metadata": {},
   "source": [
    "we can use iiifthumbnail column to use it as a base url to save the images. As we want them in a bigger size we will define a short function to replace existing dimensions for desired ones."
   ]
  },
  {
   "cell_type": "code",
   "execution_count": 23,
   "metadata": {},
   "outputs": [],
   "source": [
    "def standarize_image_url(url):\n",
    "    return url.replace('200,200', '843,')"
   ]
  },
  {
   "cell_type": "code",
   "execution_count": 16,
   "metadata": {},
   "outputs": [],
   "source": [
    "ng_df['iiifthumburl'] = ng_df['iiifthumburl'].apply(standarize_image_url)"
   ]
  },
  {
   "cell_type": "code",
   "execution_count": 19,
   "metadata": {},
   "outputs": [
    {
     "data": {
      "text/plain": [
       "'https://api.nga.gov/iiif/00004dec-8300-4487-8d89-562d0126b6a1/full/!843,/0/default.jpg'"
      ]
     },
     "execution_count": 19,
     "metadata": {},
     "output_type": "execute_result"
    }
   ],
   "source": [
    "ng_df['iiifthumburl'][0]"
   ]
  },
  {
   "cell_type": "code",
   "execution_count": 22,
   "metadata": {},
   "outputs": [],
   "source": [
    "path_to_folder = '/media/vonzipper/Elements/System Volume Information/nga_art'\n",
    "for i in range(len(ng_df)):\n",
    "    urlretrieve(ng_df['iiifthumburl'][i], path_to_folder + '/' + ng_df['uuid'][i] + '.jpg')"
   ]
  },
  {
   "cell_type": "code",
   "execution_count": 2,
   "metadata": {},
   "outputs": [],
   "source": [
    "path_to_data = '/home/vonzipper/git/opendata/data/'\n",
    "files = ['locations', 'media_items', 'media_relationships', 'object_associations', 'objects', 'objects_altnums',\n",
    "'objects_constituents', 'objects_dimensions', 'objects_historical_data', 'objects_terms', 'objects_text_entries', 'preferred_locations', 'preferred_locations_tms_locations', 'published_images']\n"
   ]
  },
  {
   "cell_type": "code",
   "execution_count": 5,
   "metadata": {},
   "outputs": [],
   "source": [
    "tabla_df = pd.read_csv(path_to_data + files[0] + '.csv')\n",
    "tabla_df.to_csv(path_to_data + files[0] + '.csv', index=False, header= False)"
   ]
  },
  {
   "cell_type": "code",
   "execution_count": 12,
   "metadata": {},
   "outputs": [
    {
     "data": {
      "text/plain": [
       "0           NaN\n",
       "1           NaN\n",
       "2        1923.0\n",
       "3        1906.0\n",
       "4        1920.0\n",
       "          ...  \n",
       "18238    1607.0\n",
       "18239       NaN\n",
       "18240       NaN\n",
       "18241       NaN\n",
       "18242       NaN\n",
       "Name: Unnamed: 7, Length: 18243, dtype: float64"
      ]
     },
     "execution_count": 12,
     "metadata": {},
     "output_type": "execute_result"
    }
   ],
   "source": [
    "nueva_tabla_df = pd.read_csv(path_to_data + files[0] + '.csv')\n",
    "nueva_tabla_df.iloc[:, 7]"
   ]
  },
  {
   "cell_type": "code",
   "execution_count": 17,
   "metadata": {},
   "outputs": [],
   "source": [
    "def convert_to_int(x):\n",
    "    if x.isnumeric():\n",
    "        x = int(x)\n",
    "    return x"
   ]
  },
  {
   "cell_type": "code",
   "execution_count": 28,
   "metadata": {},
   "outputs": [
    {
     "data": {
      "text/plain": [
       "0           NaN\n",
       "1           NaN\n",
       "2        1923.0\n",
       "3        1906.0\n",
       "4        1920.0\n",
       "          ...  \n",
       "18238    1607.0\n",
       "18239       NaN\n",
       "18240       NaN\n",
       "18241       NaN\n",
       "18242       NaN\n",
       "Name: Unnamed: 7, Length: 18243, dtype: float64"
      ]
     },
     "execution_count": 28,
     "metadata": {},
     "output_type": "execute_result"
    }
   ],
   "source": [
    "for x in nueva_tabla_df.iloc[:,7]:\n",
    "    \n",
    "    if x == 'nan':\n",
    "        x = int(x)\n",
    "        print(x)\n",
    "nueva_tabla_df.iloc[:, 7]"
   ]
  },
  {
   "cell_type": "code",
   "execution_count": 31,
   "metadata": {},
   "outputs": [
    {
     "data": {
      "text/plain": [
       "0        <NA>\n",
       "1        <NA>\n",
       "2        1923\n",
       "3        1906\n",
       "4        1920\n",
       "         ... \n",
       "18238    1607\n",
       "18239    <NA>\n",
       "18240    <NA>\n",
       "18241    <NA>\n",
       "18242    <NA>\n",
       "Name: Unnamed: 7, Length: 18243, dtype: Int64"
      ]
     },
     "execution_count": 31,
     "metadata": {},
     "output_type": "execute_result"
    }
   ],
   "source": [
    "nueva_tabla_df.iloc[:, 7] = nueva_tabla_df.iloc[:, 7].astype('Int64')\n",
    "nueva_tabla_df.iloc[:, 7]"
   ]
  },
  {
   "cell_type": "code",
   "execution_count": 34,
   "metadata": {},
   "outputs": [
    {
     "name": "stdout",
     "output_type": "stream",
     "text": [
      "<class 'pandas.core.frame.DataFrame'>\n",
      "RangeIndex: 18243 entries, 0 to 18242\n",
      "Data columns (total 13 columns):\n",
      " #   Column       Non-Null Count  Dtype  \n",
      "---  ------       --------------  -----  \n",
      " 0   9            18243 non-null  int64  \n",
      " 1   Unnamed: 1   7751 non-null   float64\n",
      " 2   Anonymous    18243 non-null  object \n",
      " 3   Anonymous.1  18243 non-null  object \n",
      " 4   Unnamed: 4   16705 non-null  object \n",
      " 5   Anonymous.2  15348 non-null  object \n",
      " 6   0            18243 non-null  int64  \n",
      " 7   Unnamed: 7   14894 non-null  Int64  \n",
      " 8   Unnamed: 8   13033 non-null  float64\n",
      " 9   Unnamed: 9   14894 non-null  object \n",
      " 10  Unnamed: 10  15453 non-null  object \n",
      " 11  Other        18243 non-null  object \n",
      " 12  anonymous    18243 non-null  object \n",
      "dtypes: Int64(1), float64(2), int64(2), object(8)\n",
      "memory usage: 1.8+ MB\n"
     ]
    }
   ],
   "source": [
    "nueva_tabla_df.info()"
   ]
  },
  {
   "cell_type": "code",
   "execution_count": 42,
   "metadata": {},
   "outputs": [],
   "source": [
    "for x in nueva_tabla_df.columns:\n",
    "    if nueva_tabla_df[x].dtype == 'float64':\n",
    "        nueva_tabla_df[x] = nueva_tabla_df[x].astype('Int64')"
   ]
  },
  {
   "cell_type": "code",
   "execution_count": 43,
   "metadata": {},
   "outputs": [],
   "source": [
    "nueva_tabla_df.to_csv(path_to_data + files[0] + '.csv', index=False, header= False)"
   ]
  },
  {
   "cell_type": "code",
   "execution_count": 12,
   "metadata": {},
   "outputs": [],
   "source": [
    "def save_csv_without_header(df, path):\n",
    "    with open(path, 'w') as f:\n",
    "        df.to_csv(f, index=False, header=False, encoding= 'utf-8')"
   ]
  },
  {
   "cell_type": "code",
   "execution_count": 30,
   "metadata": {},
   "outputs": [],
   "source": [
    "def convert_float_to_int(df):\n",
    "    for x in df.columns:\n",
    "        if df[x].dtype == 'float64':\n",
    "            df[x] = np.floor(pd.to_numeric(df[x], errors='coerce')).astype('Int64')\n",
    "            \n",
    "    return df\n"
   ]
  },
  {
   "cell_type": "code",
   "execution_count": 32,
   "metadata": {},
   "outputs": [
    {
     "name": "stdout",
     "output_type": "stream",
     "text": [
      "locations\n",
      "media_items\n",
      "media_relationships\n",
      "object_associations\n"
     ]
    },
    {
     "name": "stderr",
     "output_type": "stream",
     "text": [
      "/home/vonzipper/.local/lib/python3.8/site-packages/IPython/core/interactiveshell.py:3444: DtypeWarning: Columns (27) have mixed types.Specify dtype option on import or set low_memory=False.\n",
      "  exec(code_obj, self.user_global_ns, self.user_ns)\n"
     ]
    },
    {
     "name": "stdout",
     "output_type": "stream",
     "text": [
      "objects\n",
      "objects_altnums\n",
      "objects_constituents\n",
      "objects_dimensions\n",
      "objects_historical_data\n",
      "objects_terms\n",
      "objects_text_entries\n",
      "preferred_locations\n",
      "preferred_locations_tms_locations\n",
      "published_images\n"
     ]
    }
   ],
   "source": [
    "for x in files:\n",
    "    df = pd.read_csv(path_to_data + x + '.csv')\n",
    "    df = convert_float_to_int(df)\n",
    "    save_csv_without_header(df, path_to_data + x + 'postgres' + '.csv')\n",
    "    print(x)"
   ]
  },
  {
   "cell_type": "code",
   "execution_count": 17,
   "metadata": {},
   "outputs": [
    {
     "data": {
      "text/html": [
       "<div>\n",
       "<style scoped>\n",
       "    .dataframe tbody tr th:only-of-type {\n",
       "        vertical-align: middle;\n",
       "    }\n",
       "\n",
       "    .dataframe tbody tr th {\n",
       "        vertical-align: top;\n",
       "    }\n",
       "\n",
       "    .dataframe thead th {\n",
       "        text-align: right;\n",
       "    }\n",
       "</style>\n",
       "<table border=\"1\" class=\"dataframe\">\n",
       "  <thead>\n",
       "    <tr style=\"text-align: right;\">\n",
       "      <th></th>\n",
       "      <th>title</th>\n",
       "      <th>url</th>\n",
       "      <th>classification</th>\n",
       "    </tr>\n",
       "  </thead>\n",
       "  <tbody>\n",
       "    <tr>\n",
       "      <th>0</th>\n",
       "      <td>Untitled</td>\n",
       "      <td>https://api.nga.gov/iiif/004bb603-f18c-4ad3-98...</td>\n",
       "      <td>Painting</td>\n",
       "    </tr>\n",
       "    <tr>\n",
       "      <th>1</th>\n",
       "      <td>Country House in a Park</td>\n",
       "      <td>https://api.nga.gov/iiif/00209fb1-64a2-4961-9c...</td>\n",
       "      <td>Painting</td>\n",
       "    </tr>\n",
       "    <tr>\n",
       "      <th>2</th>\n",
       "      <td>Cuadro 78</td>\n",
       "      <td>https://api.nga.gov/iiif/008624f7-d50e-4aaa-bf...</td>\n",
       "      <td>Painting</td>\n",
       "    </tr>\n",
       "    <tr>\n",
       "      <th>3</th>\n",
       "      <td>Gentlemen's Still Life</td>\n",
       "      <td>https://api.nga.gov/iiif/0072e45c-c9ef-48ac-b4...</td>\n",
       "      <td>Painting</td>\n",
       "    </tr>\n",
       "    <tr>\n",
       "      <th>4</th>\n",
       "      <td>Seel</td>\n",
       "      <td>https://api.nga.gov/iiif/0087942e-c830-4f71-9f...</td>\n",
       "      <td>Painting</td>\n",
       "    </tr>\n",
       "    <tr>\n",
       "      <th>...</th>\n",
       "      <td>...</td>\n",
       "      <td>...</td>\n",
       "      <td>...</td>\n",
       "    </tr>\n",
       "    <tr>\n",
       "      <th>3747</th>\n",
       "      <td>Vanitas Still Life</td>\n",
       "      <td>https://api.nga.gov/iiif/ffcbf669-7d12-4f64-a3...</td>\n",
       "      <td>Painting</td>\n",
       "    </tr>\n",
       "    <tr>\n",
       "      <th>3748</th>\n",
       "      <td>John, 4th Earl of Darnley</td>\n",
       "      <td>https://api.nga.gov/iiif/ff6db495-6391-4f75-b6...</td>\n",
       "      <td>Painting</td>\n",
       "    </tr>\n",
       "    <tr>\n",
       "      <th>3749</th>\n",
       "      <td>Odalisque</td>\n",
       "      <td>https://api.nga.gov/iiif/ff85b5dc-6632-465f-a1...</td>\n",
       "      <td>Painting</td>\n",
       "    </tr>\n",
       "    <tr>\n",
       "      <th>3750</th>\n",
       "      <td>Untitled</td>\n",
       "      <td>https://api.nga.gov/iiif/ffd8f1da-7548-411b-a1...</td>\n",
       "      <td>Painting</td>\n",
       "    </tr>\n",
       "    <tr>\n",
       "      <th>3751</th>\n",
       "      <td>The Suitor's Visit</td>\n",
       "      <td>https://api.nga.gov/iiif/ffefb1ed-2abf-4121-84...</td>\n",
       "      <td>Painting</td>\n",
       "    </tr>\n",
       "  </tbody>\n",
       "</table>\n",
       "<p>3752 rows × 3 columns</p>\n",
       "</div>"
      ],
      "text/plain": [
       "                          title  \\\n",
       "0                      Untitled   \n",
       "1       Country House in a Park   \n",
       "2                     Cuadro 78   \n",
       "3        Gentlemen's Still Life   \n",
       "4                          Seel   \n",
       "...                         ...   \n",
       "3747         Vanitas Still Life   \n",
       "3748  John, 4th Earl of Darnley   \n",
       "3749                  Odalisque   \n",
       "3750                   Untitled   \n",
       "3751         The Suitor's Visit   \n",
       "\n",
       "                                                    url classification  \n",
       "0     https://api.nga.gov/iiif/004bb603-f18c-4ad3-98...       Painting  \n",
       "1     https://api.nga.gov/iiif/00209fb1-64a2-4961-9c...       Painting  \n",
       "2     https://api.nga.gov/iiif/008624f7-d50e-4aaa-bf...       Painting  \n",
       "3     https://api.nga.gov/iiif/0072e45c-c9ef-48ac-b4...       Painting  \n",
       "4     https://api.nga.gov/iiif/0087942e-c830-4f71-9f...       Painting  \n",
       "...                                                 ...            ...  \n",
       "3747  https://api.nga.gov/iiif/ffcbf669-7d12-4f64-a3...       Painting  \n",
       "3748  https://api.nga.gov/iiif/ff6db495-6391-4f75-b6...       Painting  \n",
       "3749  https://api.nga.gov/iiif/ff85b5dc-6632-465f-a1...       Painting  \n",
       "3750  https://api.nga.gov/iiif/ffd8f1da-7548-411b-a1...       Painting  \n",
       "3751  https://api.nga.gov/iiif/ffefb1ed-2abf-4121-84...       Painting  \n",
       "\n",
       "[3752 rows x 3 columns]"
      ]
     },
     "execution_count": 17,
     "metadata": {},
     "output_type": "execute_result"
    }
   ],
   "source": [
    "nga_df = pd.read_csv('nga_query_data.csv')\n",
    "nga_df"
   ]
  },
  {
   "cell_type": "code",
   "execution_count": 31,
   "metadata": {},
   "outputs": [
    {
     "data": {
      "text/plain": [
       "'https://api.nga.gov/iiif/0072e45c-c9ef-48ac-b4dd-b5994cf5546c/full/!843,/0/default.jpg'"
      ]
     },
     "execution_count": 31,
     "metadata": {},
     "output_type": "execute_result"
    }
   ],
   "source": [
    "nga_df['url'] = nga_df['url'].apply(standarize_image_url)\n",
    "nga_df['url'][3]"
   ]
  }
 ],
 "metadata": {
  "interpreter": {
   "hash": "4f6aa28ffef1f2bc06145bcad332052136c844c0600eed08e7b3502681a01009"
  },
  "kernelspec": {
   "display_name": "Python 3.8.12 64-bit ('art_env': conda)",
   "language": "python",
   "name": "python3"
  },
  "language_info": {
   "codemirror_mode": {
    "name": "ipython",
    "version": 3
   },
   "file_extension": ".py",
   "mimetype": "text/x-python",
   "name": "python",
   "nbconvert_exporter": "python",
   "pygments_lexer": "ipython3",
   "version": "3.8.12"
  },
  "orig_nbformat": 4
 },
 "nbformat": 4,
 "nbformat_minor": 2
}
